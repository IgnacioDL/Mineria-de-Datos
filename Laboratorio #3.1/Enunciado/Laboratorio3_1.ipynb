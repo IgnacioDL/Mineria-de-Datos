{
  "nbformat": 4,
  "nbformat_minor": 0,
  "metadata": {
    "anaconda-cloud": {},
    "colab": {
      "name": "Laboratorio3.1.ipynb",
      "provenance": [],
      "collapsed_sections": []
    },
    "hide_input": false,
    "kernelspec": {
      "display_name": "Python 3",
      "language": "python",
      "name": "python3"
    },
    "language_info": {
      "codemirror_mode": {
        "name": "ipython",
        "version": 3
      },
      "file_extension": ".py",
      "mimetype": "text/x-python",
      "name": "python",
      "nbconvert_exporter": "python",
      "pygments_lexer": "ipython3",
      "version": "3.7.4"
    },
    "toc": {
      "base_numbering": 1,
      "nav_menu": {},
      "number_sections": true,
      "sideBar": true,
      "skip_h1_title": false,
      "title_cell": "Table of Contents",
      "title_sidebar": "Contents",
      "toc_cell": false,
      "toc_position": {},
      "toc_section_display": true,
      "toc_window_display": false
    },
    "varInspector": {
      "cols": {
        "lenName": 16,
        "lenType": 16,
        "lenVar": 40
      },
      "kernels_config": {
        "python": {
          "delete_cmd_postfix": "",
          "delete_cmd_prefix": "del ",
          "library": "var_list.py",
          "varRefreshCmd": "print(var_dic_list())"
        },
        "r": {
          "delete_cmd_postfix": ") ",
          "delete_cmd_prefix": "rm(",
          "library": "var_list.r",
          "varRefreshCmd": "cat(var_dic_list()) "
        }
      },
      "types_to_exclude": [
        "module",
        "function",
        "builtin_function_or_method",
        "instance",
        "_Feature"
      ],
      "window_display": false
    }
  },
  "cells": [
    {
      "cell_type": "markdown",
      "metadata": {
        "id": "p_XcuC2rXQWb",
        "pycharm": {}
      },
      "source": [
        "# Laboratorio 3.1: Clustering\n",
        "\n",
        "**Autores:** Hernán Sarmiento, Andrés Abeliuk, Alison Fernandez, Cinthia Mabel Sanchez, Johnny Godoy, Gabriel Ramos, Cristian Llull y Matías Rojas\n",
        "\n",
        "**Fecha:** Octubre 2021"
      ]
    },
    {
      "cell_type": "markdown",
      "metadata": {
        "heading_collapsed": true,
        "id": "RvarrC_jXQWe",
        "pycharm": {}
      },
      "source": [
        "## ============= Declaración de compromiso ético =============\n",
        "\n",
        "Nosotros ****AGREGUEN SUS NOMBRES**** , declaramos que realizamos de manera grupal los pasos de la presente actividad. También declaramos no incurrir en copia, ni compartir nuestras respuestas con otras personas ni con otros grupos. Por lo que, ratificamos que las respuestas son de nuestra propia confección y reflejan nuestro propio conocimiento.\n"
      ]
    },
    {
      "cell_type": "markdown",
      "metadata": {
        "heading_collapsed": true,
        "id": "bxEPucKhXQWg",
        "pycharm": {}
      },
      "source": [
        "# Instrucciones\n",
        "\n",
        "\n",
        "1. Trabajen en equipos de dos personas. Salvo excepciones, no se corregirá entregas con menos de dos integrantes.\n",
        "\n",
        "2. Modifiquen este archivo `.ipynb` agregando sus respuestas donde corresponda. \n",
        "\n",
        "3. Cuando finalicen el laboratorio, **generen un archivo HTML** usando jupyter (ver tutorial 2) y súbanlo a U-Cursos. El laboratorio debe ser entregado sólo por 1 integrante. Si se entrega por más de un integrante, se revisará cualquiera de éstos."
      ]
    },
    {
      "cell_type": "markdown",
      "metadata": {
        "heading_collapsed": true,
        "id": "SMUzxXj7XQWi",
        "pycharm": {}
      },
      "source": [
        "# Estructura del laboratorio\n",
        "\n",
        "Este laboratorio consiste en 2 partes. La primera son preguntas teóricas en las que no necesita escribir código y corresponden a materia vista en clases. La segunda es una sección introductoria para familiarizarse con métodos de clustering."
      ]
    },
    {
      "cell_type": "markdown",
      "metadata": {
        "id": "BUK5vAG9fHXq"
      },
      "source": [
        "# Parte 1: Teoría\n",
        "\n",
        "\n",
        "**1.** Explique para qué se usan los algoritmos de clustering.\n",
        "\n",
        ">**Respuesta:**\n",
        "\n",
        "**2.** Explique cómo encontrar outliers en los siguientes métodos de clustering:\n",
        ">**Respuesta:**"
      ]
    },
    {
      "cell_type": "markdown",
      "metadata": {
        "id": "huukwudDfS-f"
      },
      "source": [
        "# Parte 2: Clustering"
      ]
    },
    {
      "cell_type": "markdown",
      "metadata": {
        "id": "jTuloXfOjXak"
      },
      "source": [
        "Para esta parte usaremos el dataset de cantidad de denuncias por 100 mil habitantes por tipo de delito desde el año 2001 al 2016 en Chile (Fuente: http://www.seguridadpublica.gov.cl/estadisticas/tasa-de-denuncias-y-detenciones/delitos-de-mayor-connotacion-social-series-de-datos-2001-2017/).\n",
        "\n",
        "Ejecute el siguiete código para cargar el dataset:"
      ]
    },
    {
      "cell_type": "code",
      "metadata": {
        "id": "StooikhfjZLp"
      },
      "source": [
        "import pandas as pd\n",
        "import numpy as np\n",
        "\n",
        "dataframe = pd.read_csv(\"https://users.dcc.uchile.cl/~hsarmien/mineria/datasets/denuncias-2001-2016.txt\", sep=\" \")\n",
        "dataframe"
      ],
      "execution_count": null,
      "outputs": []
    },
    {
      "cell_type": "markdown",
      "metadata": {
        "id": "qurrGwfnjbKP"
      },
      "source": [
        "Utilizaremos sólo los datos del 2006. Ejecute las siguientes líneas de código para filtrar los datos:"
      ]
    },
    {
      "cell_type": "code",
      "metadata": {
        "id": "APsAJvb5jc0V"
      },
      "source": [
        "X = dataframe[dataframe[\"anio\"] == 2006]\n",
        "X = X.drop(columns=[\"comuna\", \"anio\"])\n",
        "X"
      ],
      "execution_count": null,
      "outputs": []
    },
    {
      "cell_type": "markdown",
      "metadata": {
        "id": "ZH5aquJWjizK"
      },
      "source": [
        "## K-Means\n",
        "\n",
        "**1.** Cuando usamos K-Means debemos definir previamente el número de clusters que queremos generar. Teniendo en cuenta estos datos, implemente un método que nos permita determinar cuántos clusters usar."
      ]
    },
    {
      "cell_type": "code",
      "metadata": {
        "id": "tL2mOfTa3Pds"
      },
      "source": [
        "# Respuesta"
      ],
      "execution_count": null,
      "outputs": []
    },
    {
      "cell_type": "markdown",
      "metadata": {
        "id": "x1lHWlA7kqgT"
      },
      "source": [
        "**2.** Cuántos clusters propone usar para este dataset? Justifique su elección."
      ]
    },
    {
      "cell_type": "markdown",
      "metadata": {
        "id": "4m-XgeXPkzq3"
      },
      "source": [
        "> **Respuesta:**"
      ]
    },
    {
      "cell_type": "markdown",
      "metadata": {
        "id": "V7ifMHUa9TQo"
      },
      "source": [
        "**3.** Entrene un modelo de K-Means usando el número de clusters que eligió en la pregunta anterior e imprima las asignaciones de clusters para cada dato."
      ]
    },
    {
      "cell_type": "code",
      "metadata": {
        "id": "W769Szoj9aSe"
      },
      "source": [
        "# Respuesta"
      ],
      "execution_count": null,
      "outputs": []
    },
    {
      "cell_type": "markdown",
      "metadata": {
        "id": "_X2V0E-8jnu7"
      },
      "source": [
        "**4.** Al ejecutar el código anterior (pregunta 3) varias veces, obtenemos resultados diferentes. ¿Cómo podría evitar los resultados variables de K-means? Presente al menos 2 opciones para lograr esto. Puede implementarlo o describirlo.\n",
        "\n",
        "> **Respuesta:**"
      ]
    },
    {
      "cell_type": "markdown",
      "metadata": {
        "id": "TwD2fgUO9uPh"
      },
      "source": [
        "**5.** Ejecute el siguiente código que bajará la dimensionalidad de los datos de 7 a 2. Grafique los datos transformados y pinte los gráficos para tener una representación visual de los clusters."
      ]
    },
    {
      "cell_type": "code",
      "metadata": {
        "id": "4HP4MLyF9_UV"
      },
      "source": [
        "from sklearn.decomposition import PCA\n",
        "\n",
        "new_X = PCA(n_components=2, random_state=0).fit_transform(X)"
      ],
      "execution_count": null,
      "outputs": []
    },
    {
      "cell_type": "code",
      "metadata": {
        "id": "bkqt8vNP-du5"
      },
      "source": [
        "# Respuesta\n"
      ],
      "execution_count": null,
      "outputs": []
    },
    {
      "cell_type": "markdown",
      "metadata": {
        "id": "aMeMvKgclbpe"
      },
      "source": [
        "## Clustering Jerárquico Aglomerativo"
      ]
    },
    {
      "cell_type": "markdown",
      "metadata": {
        "id": "maJ6HPXjl3_Q"
      },
      "source": [
        "**1.** Usando los datos anteriores, ejecute cada uno de los 4 métodos de clustering jerárquico: complete, single, average y ward, y visualice los dendrogramas formados. Adjunte el código necesario. No necesita generar los 4 dendrogramas en el mismo gráfico, pueden ser distintos."
      ]
    },
    {
      "cell_type": "code",
      "metadata": {
        "id": "UgV5XD4_mH9T"
      },
      "source": [
        "# Respuesta"
      ],
      "execution_count": null,
      "outputs": []
    },
    {
      "cell_type": "markdown",
      "metadata": {
        "id": "My7CjyF18Dgd"
      },
      "source": [
        "**2.** Fijándose en el método `single`, \"visualmente\" cuántos clusters propone usar? A qué altura recomendaría cortar el árbol?"
      ]
    },
    {
      "cell_type": "markdown",
      "metadata": {
        "id": "VkDbxu1Y8HWr"
      },
      "source": [
        "> **Respuesta:**"
      ]
    },
    {
      "cell_type": "markdown",
      "metadata": {
        "id": "5sSIrGgfmIGa"
      },
      "source": [
        "**3.** Ahora si miramos el método `ward`, \"visualmente\" cuántos clusters propone usar? A qué altura se debe cortar el arbol para obtener esa cantidad de clusters?"
      ]
    },
    {
      "cell_type": "markdown",
      "metadata": {
        "id": "FcDfUn6N7vrW"
      },
      "source": [
        "> **Respuesta:**"
      ]
    },
    {
      "cell_type": "markdown",
      "metadata": {
        "id": "J6YULxJd7wX6"
      },
      "source": [
        "**4.** Implemente el código para asignar clusters a los datos siguiendo lo que usted propuso en la pregunta **2** y **3** y liste la asignación de clusters para cada punto del dataset para `single` y `ward`. Cuántos clusters se generan para el método `single` cortando a la altura que propuso en la pregunta **2**?"
      ]
    },
    {
      "cell_type": "code",
      "metadata": {
        "id": "s6OKkjdCmmsr"
      },
      "source": [
        "# Respuesta"
      ],
      "execution_count": null,
      "outputs": []
    },
    {
      "cell_type": "markdown",
      "metadata": {
        "id": "o76oGCY6EU66"
      },
      "source": [
        "**5.** Cuántos datos quedan asignados a cada cluster? Agregue el código necesario para objener esta información para los métodos `single` y `ward`."
      ]
    },
    {
      "cell_type": "code",
      "metadata": {
        "id": "5rDF5sBPEsJy"
      },
      "source": [
        "# Respuesta"
      ],
      "execution_count": null,
      "outputs": []
    },
    {
      "cell_type": "markdown",
      "metadata": {
        "id": "ipwD-E76AEXg"
      },
      "source": [
        "**6.** Usando el dataset con dimensiones reducidas generado en la parte K-means, pregunta **5**: `new_X`, grafique los datos y pinte los datos con su asignacion de cluster para los métodos `single` y `ward` para tener una representación visual de los clusters."
      ]
    },
    {
      "cell_type": "code",
      "metadata": {
        "id": "gBMTzMuxAe1H"
      },
      "source": [
        "# Respuesta"
      ],
      "execution_count": null,
      "outputs": []
    },
    {
      "cell_type": "markdown",
      "metadata": {
        "id": "du0-ZTUVHD9o"
      },
      "source": [
        "## Análisis"
      ]
    },
    {
      "cell_type": "markdown",
      "metadata": {
        "id": "A0rwen_-HFSw"
      },
      "source": [
        "**1.** Seleccione alguno de los métodos de clustering aplicados anteriormente e interprete los clusters obtenidos. \n",
        "* a) ¿Qué puede decir de los clusters generados? \n",
        "* b) ¿Existen patrones de agrupación?"
      ]
    },
    {
      "cell_type": "markdown",
      "metadata": {
        "id": "O3-d-WspizTI"
      },
      "source": [
        "> **Respuesta**"
      ]
    }
  ]
}